{
 "cells": [
  {
   "cell_type": "code",
   "execution_count": 1,
   "id": "8bfe25a4-fdc1-4282-af0b-35bc50a7bc9f",
   "metadata": {},
   "outputs": [],
   "source": [
    "import numpy as np # SERIES"
   ]
  },
  {
   "cell_type": "code",
   "execution_count": 2,
   "id": "2f8c5017-466b-41f6-bc16-30d1b08b6175",
   "metadata": {},
   "outputs": [],
   "source": [
    "import pandas as pd"
   ]
  },
  {
   "cell_type": "code",
   "execution_count": 3,
   "id": "9c2eae2f-bcac-416e-a0f8-d57ec1966cc7",
   "metadata": {},
   "outputs": [],
   "source": [
    "label = ['satu','dua','tiga']"
   ]
  },
  {
   "cell_type": "code",
   "execution_count": 4,
   "id": "54d31598-c3ca-44fd-b391-12f541725902",
   "metadata": {},
   "outputs": [],
   "source": [
    "angka = [10,20,30]"
   ]
  },
  {
   "cell_type": "code",
   "execution_count": 13,
   "id": "e0e82abf-add5-4dce-b183-692f08de82a5",
   "metadata": {},
   "outputs": [],
   "source": [
    "np_angka = np.array(angka)"
   ]
  },
  {
   "cell_type": "code",
   "execution_count": 15,
   "id": "78ea2cf0-1538-4d05-a684-5081d26fa12c",
   "metadata": {},
   "outputs": [
    {
     "data": {
      "text/plain": [
       "array([10, 20, 30])"
      ]
     },
     "execution_count": 15,
     "metadata": {},
     "output_type": "execute_result"
    }
   ],
   "source": [
    "np_angka"
   ]
  },
  {
   "cell_type": "code",
   "execution_count": 9,
   "id": "a5517f37-beca-4266-af52-3edc3db42412",
   "metadata": {},
   "outputs": [
    {
     "data": {
      "text/plain": [
       "0    10\n",
       "1    20\n",
       "2    30\n",
       "dtype: int64"
      ]
     },
     "execution_count": 9,
     "metadata": {},
     "output_type": "execute_result"
    }
   ],
   "source": [
    "pd.Series(data=angka) "
   ]
  },
  {
   "cell_type": "code",
   "execution_count": 11,
   "id": "916ebe81-f96f-43db-b25b-bf6e6f598dd0",
   "metadata": {},
   "outputs": [],
   "source": [
    "dataku = pd.Series(data=angka, index=label) #Masih ber tipe Series"
   ]
  },
  {
   "cell_type": "code",
   "execution_count": 12,
   "id": "488e32d7-396c-40a1-8a36-a1a4f6c783b6",
   "metadata": {},
   "outputs": [
    {
     "data": {
      "text/plain": [
       "satu    10\n",
       "dua     20\n",
       "tiga    30\n",
       "dtype: int64"
      ]
     },
     "execution_count": 12,
     "metadata": {},
     "output_type": "execute_result"
    }
   ],
   "source": [
    "dataku"
   ]
  },
  {
   "cell_type": "code",
   "execution_count": 17,
   "id": "9ed892d5-6ad6-4454-a1bc-281f344e0480",
   "metadata": {},
   "outputs": [],
   "source": [
    "d = {'satu':10, 'dua':20, 'tiga':30}"
   ]
  },
  {
   "cell_type": "code",
   "execution_count": 18,
   "id": "dbaf8977-4541-41d7-aab3-94a9c69dd3e8",
   "metadata": {},
   "outputs": [
    {
     "data": {
      "text/plain": [
       "satu     10\n",
       "dua      20\n",
       "tigas    30\n",
       "dtype: int64"
      ]
     },
     "execution_count": 18,
     "metadata": {},
     "output_type": "execute_result"
    }
   ],
   "source": [
    "pd.Series(d)"
   ]
  },
  {
   "cell_type": "code",
   "execution_count": 20,
   "id": "182912a1-bbe1-4339-a9a0-64bdb63cb80d",
   "metadata": {},
   "outputs": [],
   "source": [
    "dataku = dataku.to_frame() # Mengubah Series menjadi DataFrame"
   ]
  },
  {
   "cell_type": "code",
   "execution_count": 23,
   "id": "c6f1fad8-f800-4ead-b973-cd687a73df57",
   "metadata": {},
   "outputs": [],
   "source": [
    "d2 = {'satu':10, 'dua':20, 'tigas':30, 'empat':40, 'lima':50}"
   ]
  },
  {
   "cell_type": "code",
   "execution_count": 27,
   "id": "1c561888-d31c-4a54-a28c-8785e33dcdaa",
   "metadata": {},
   "outputs": [],
   "source": [
    "dataku1 = pd.Series(d)"
   ]
  },
  {
   "cell_type": "code",
   "execution_count": 28,
   "id": "622fa0f4-cf67-4a11-b4b4-77ad40a69ae0",
   "metadata": {},
   "outputs": [],
   "source": [
    "dataku2 = pd.Series(d2)"
   ]
  },
  {
   "cell_type": "code",
   "execution_count": 30,
   "id": "26541224-a354-470c-8397-b3b05854ec8b",
   "metadata": {},
   "outputs": [
    {
     "data": {
      "text/plain": [
       "dua      40.0\n",
       "empat     NaN\n",
       "lima      NaN\n",
       "satu     20.0\n",
       "tigas    60.0\n",
       "dtype: float64"
      ]
     },
     "execution_count": 30,
     "metadata": {},
     "output_type": "execute_result"
    }
   ],
   "source": [
    "dataku1 + dataku2"
   ]
  },
  {
   "cell_type": "code",
   "execution_count": null,
   "id": "574b74c6-df36-4a59-a6dc-57882a99be8a",
   "metadata": {},
   "outputs": [],
   "source": []
  }
 ],
 "metadata": {
  "kernelspec": {
   "display_name": "Python 3 (ipykernel)",
   "language": "python",
   "name": "python3"
  },
  "language_info": {
   "codemirror_mode": {
    "name": "ipython",
    "version": 3
   },
   "file_extension": ".py",
   "mimetype": "text/x-python",
   "name": "python",
   "nbconvert_exporter": "python",
   "pygments_lexer": "ipython3",
   "version": "3.12.3"
  }
 },
 "nbformat": 4,
 "nbformat_minor": 5
}
